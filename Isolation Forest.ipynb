{
 "cells": [
  {
   "cell_type": "code",
   "execution_count": 1,
   "id": "2aacf405",
   "metadata": {},
   "outputs": [
    {
     "name": "stderr",
     "output_type": "stream",
     "text": [
      "/Users/abhaykumar/opt/anaconda3/lib/python3.9/site-packages/scipy/__init__.py:146: UserWarning: A NumPy version >=1.16.5 and <1.23.0 is required for this version of SciPy (detected version 1.24.3\n",
      "  warnings.warn(f\"A NumPy version >={np_minversion} and <{np_maxversion}\"\n"
     ]
    }
   ],
   "source": [
    "import pandas as pd\n",
    "from sklearn.ensemble import IsolationForest\n",
    "from sklearn.preprocessing import StandardScaler, OneHotEncoder\n",
    "from sklearn.compose import ColumnTransformer\n",
    "from sklearn.pipeline import Pipeline\n",
    "from sklearn.metrics import classification_report\n",
    "from sklearn.model_selection import train_test_split\n",
    "import matplotlib.pyplot as plt\n",
    "import scikitplot as skplt"
   ]
  },
  {
   "cell_type": "code",
   "execution_count": 2,
   "id": "16f73f33",
   "metadata": {},
   "outputs": [],
   "source": [
    "# Load the dataset\n",
    "columns = ['duration', 'protocol_type', 'service', 'flag', 'src_bytes', 'dst_bytes', 'land', 'wrong_fragment',\n",
    "           'urgent', 'hot', 'num_failed_logins', 'logged_in', 'num_compromised', 'root_shell', 'su_attempted',\n",
    "           'num_root', 'num_file_creations', 'num_shells', 'num_access_files', 'num_outbound_cmds', 'is_host_login',\n",
    "           'is_guest_login', 'count', 'srv_count', 'serror_rate', 'srv_serror_rate', 'rerror_rate', 'srv_rerror_rate',\n",
    "           'same_srv_rate', 'diff_srv_rate', 'srv_diff_host_rate', 'dst_host_count', 'dst_host_srv_count',\n",
    "           'dst_host_same_srv_rate', 'dst_host_diff_srv_rate', 'dst_host_same_src_port_rate', 'dst_host_srv_diff_host_rate',\n",
    "           'dst_host_serror_rate', 'dst_host_srv_serror_rate', 'dst_host_rerror_rate', 'dst_host_srv_rerror_rate', 'label']"
   ]
  },
  {
   "cell_type": "code",
   "execution_count": 3,
   "id": "b39695cb",
   "metadata": {},
   "outputs": [],
   "source": [
    "# Adjust the path to the correct location of the dataset\n",
    "file_path = 'KDDTrain+.txt'\n",
    "# file_path = 'Friday-WorkingHours-Afternoon-DDos.pcap_ISCX.csv'"
   ]
  },
  {
   "cell_type": "code",
   "execution_count": 4,
   "id": "72f7c88c",
   "metadata": {},
   "outputs": [],
   "source": [
    "# Load the dataset\n",
    "df = pd.read_csv(file_path, header=None, names=columns)"
   ]
  },
  {
   "cell_type": "code",
   "execution_count": 5,
   "id": "57e8e6da",
   "metadata": {},
   "outputs": [],
   "source": [
    "df['label'] = df['dst_host_srv_rerror_rate'].apply(lambda x: 0 if x != 'normal' else 1)\n",
    "df = df.drop([\"dst_host_srv_rerror_rate\"], axis=1)"
   ]
  },
  {
   "cell_type": "code",
   "execution_count": 6,
   "id": "ff6fd307",
   "metadata": {},
   "outputs": [
    {
     "data": {
      "text/html": [
       "<div>\n",
       "<style scoped>\n",
       "    .dataframe tbody tr th:only-of-type {\n",
       "        vertical-align: middle;\n",
       "    }\n",
       "\n",
       "    .dataframe tbody tr th {\n",
       "        vertical-align: top;\n",
       "    }\n",
       "\n",
       "    .dataframe thead th {\n",
       "        text-align: right;\n",
       "    }\n",
       "</style>\n",
       "<table border=\"1\" class=\"dataframe\">\n",
       "  <thead>\n",
       "    <tr style=\"text-align: right;\">\n",
       "      <th></th>\n",
       "      <th>duration</th>\n",
       "      <th>protocol_type</th>\n",
       "      <th>service</th>\n",
       "      <th>flag</th>\n",
       "      <th>src_bytes</th>\n",
       "      <th>dst_bytes</th>\n",
       "      <th>land</th>\n",
       "      <th>wrong_fragment</th>\n",
       "      <th>urgent</th>\n",
       "      <th>hot</th>\n",
       "      <th>...</th>\n",
       "      <th>dst_host_count</th>\n",
       "      <th>dst_host_srv_count</th>\n",
       "      <th>dst_host_same_srv_rate</th>\n",
       "      <th>dst_host_diff_srv_rate</th>\n",
       "      <th>dst_host_same_src_port_rate</th>\n",
       "      <th>dst_host_srv_diff_host_rate</th>\n",
       "      <th>dst_host_serror_rate</th>\n",
       "      <th>dst_host_srv_serror_rate</th>\n",
       "      <th>dst_host_rerror_rate</th>\n",
       "      <th>label</th>\n",
       "    </tr>\n",
       "  </thead>\n",
       "  <tbody>\n",
       "    <tr>\n",
       "      <th>0</th>\n",
       "      <td>tcp</td>\n",
       "      <td>ftp_data</td>\n",
       "      <td>SF</td>\n",
       "      <td>491</td>\n",
       "      <td>0</td>\n",
       "      <td>0</td>\n",
       "      <td>0</td>\n",
       "      <td>0</td>\n",
       "      <td>0</td>\n",
       "      <td>0</td>\n",
       "      <td>...</td>\n",
       "      <td>25</td>\n",
       "      <td>0.17</td>\n",
       "      <td>0.03</td>\n",
       "      <td>0.17</td>\n",
       "      <td>0.00</td>\n",
       "      <td>0.00</td>\n",
       "      <td>0.00</td>\n",
       "      <td>0.05</td>\n",
       "      <td>0.00</td>\n",
       "      <td>1</td>\n",
       "    </tr>\n",
       "    <tr>\n",
       "      <th>0</th>\n",
       "      <td>udp</td>\n",
       "      <td>other</td>\n",
       "      <td>SF</td>\n",
       "      <td>146</td>\n",
       "      <td>0</td>\n",
       "      <td>0</td>\n",
       "      <td>0</td>\n",
       "      <td>0</td>\n",
       "      <td>0</td>\n",
       "      <td>0</td>\n",
       "      <td>...</td>\n",
       "      <td>1</td>\n",
       "      <td>0.00</td>\n",
       "      <td>0.60</td>\n",
       "      <td>0.88</td>\n",
       "      <td>0.00</td>\n",
       "      <td>0.00</td>\n",
       "      <td>0.00</td>\n",
       "      <td>0.00</td>\n",
       "      <td>0.00</td>\n",
       "      <td>1</td>\n",
       "    </tr>\n",
       "    <tr>\n",
       "      <th>0</th>\n",
       "      <td>tcp</td>\n",
       "      <td>private</td>\n",
       "      <td>S0</td>\n",
       "      <td>0</td>\n",
       "      <td>0</td>\n",
       "      <td>0</td>\n",
       "      <td>0</td>\n",
       "      <td>0</td>\n",
       "      <td>0</td>\n",
       "      <td>0</td>\n",
       "      <td>...</td>\n",
       "      <td>26</td>\n",
       "      <td>0.10</td>\n",
       "      <td>0.05</td>\n",
       "      <td>0.00</td>\n",
       "      <td>0.00</td>\n",
       "      <td>1.00</td>\n",
       "      <td>1.00</td>\n",
       "      <td>0.00</td>\n",
       "      <td>0.00</td>\n",
       "      <td>0</td>\n",
       "    </tr>\n",
       "    <tr>\n",
       "      <th>0</th>\n",
       "      <td>tcp</td>\n",
       "      <td>http</td>\n",
       "      <td>SF</td>\n",
       "      <td>232</td>\n",
       "      <td>8153</td>\n",
       "      <td>0</td>\n",
       "      <td>0</td>\n",
       "      <td>0</td>\n",
       "      <td>0</td>\n",
       "      <td>0</td>\n",
       "      <td>...</td>\n",
       "      <td>255</td>\n",
       "      <td>1.00</td>\n",
       "      <td>0.00</td>\n",
       "      <td>0.03</td>\n",
       "      <td>0.04</td>\n",
       "      <td>0.03</td>\n",
       "      <td>0.01</td>\n",
       "      <td>0.00</td>\n",
       "      <td>0.01</td>\n",
       "      <td>1</td>\n",
       "    </tr>\n",
       "    <tr>\n",
       "      <th>0</th>\n",
       "      <td>tcp</td>\n",
       "      <td>http</td>\n",
       "      <td>SF</td>\n",
       "      <td>199</td>\n",
       "      <td>420</td>\n",
       "      <td>0</td>\n",
       "      <td>0</td>\n",
       "      <td>0</td>\n",
       "      <td>0</td>\n",
       "      <td>0</td>\n",
       "      <td>...</td>\n",
       "      <td>255</td>\n",
       "      <td>1.00</td>\n",
       "      <td>0.00</td>\n",
       "      <td>0.00</td>\n",
       "      <td>0.00</td>\n",
       "      <td>0.00</td>\n",
       "      <td>0.00</td>\n",
       "      <td>0.00</td>\n",
       "      <td>0.00</td>\n",
       "      <td>1</td>\n",
       "    </tr>\n",
       "    <tr>\n",
       "      <th>...</th>\n",
       "      <td>...</td>\n",
       "      <td>...</td>\n",
       "      <td>...</td>\n",
       "      <td>...</td>\n",
       "      <td>...</td>\n",
       "      <td>...</td>\n",
       "      <td>...</td>\n",
       "      <td>...</td>\n",
       "      <td>...</td>\n",
       "      <td>...</td>\n",
       "      <td>...</td>\n",
       "      <td>...</td>\n",
       "      <td>...</td>\n",
       "      <td>...</td>\n",
       "      <td>...</td>\n",
       "      <td>...</td>\n",
       "      <td>...</td>\n",
       "      <td>...</td>\n",
       "      <td>...</td>\n",
       "      <td>...</td>\n",
       "      <td>...</td>\n",
       "    </tr>\n",
       "    <tr>\n",
       "      <th>0</th>\n",
       "      <td>tcp</td>\n",
       "      <td>private</td>\n",
       "      <td>S0</td>\n",
       "      <td>0</td>\n",
       "      <td>0</td>\n",
       "      <td>0</td>\n",
       "      <td>0</td>\n",
       "      <td>0</td>\n",
       "      <td>0</td>\n",
       "      <td>0</td>\n",
       "      <td>...</td>\n",
       "      <td>25</td>\n",
       "      <td>0.10</td>\n",
       "      <td>0.06</td>\n",
       "      <td>0.00</td>\n",
       "      <td>0.00</td>\n",
       "      <td>1.00</td>\n",
       "      <td>1.00</td>\n",
       "      <td>0.00</td>\n",
       "      <td>0.00</td>\n",
       "      <td>0</td>\n",
       "    </tr>\n",
       "    <tr>\n",
       "      <th>8</th>\n",
       "      <td>udp</td>\n",
       "      <td>private</td>\n",
       "      <td>SF</td>\n",
       "      <td>105</td>\n",
       "      <td>145</td>\n",
       "      <td>0</td>\n",
       "      <td>0</td>\n",
       "      <td>0</td>\n",
       "      <td>0</td>\n",
       "      <td>0</td>\n",
       "      <td>...</td>\n",
       "      <td>244</td>\n",
       "      <td>0.96</td>\n",
       "      <td>0.01</td>\n",
       "      <td>0.01</td>\n",
       "      <td>0.00</td>\n",
       "      <td>0.00</td>\n",
       "      <td>0.00</td>\n",
       "      <td>0.00</td>\n",
       "      <td>0.00</td>\n",
       "      <td>1</td>\n",
       "    </tr>\n",
       "    <tr>\n",
       "      <th>0</th>\n",
       "      <td>tcp</td>\n",
       "      <td>smtp</td>\n",
       "      <td>SF</td>\n",
       "      <td>2231</td>\n",
       "      <td>384</td>\n",
       "      <td>0</td>\n",
       "      <td>0</td>\n",
       "      <td>0</td>\n",
       "      <td>0</td>\n",
       "      <td>0</td>\n",
       "      <td>...</td>\n",
       "      <td>30</td>\n",
       "      <td>0.12</td>\n",
       "      <td>0.06</td>\n",
       "      <td>0.00</td>\n",
       "      <td>0.00</td>\n",
       "      <td>0.72</td>\n",
       "      <td>0.00</td>\n",
       "      <td>0.01</td>\n",
       "      <td>0.00</td>\n",
       "      <td>1</td>\n",
       "    </tr>\n",
       "    <tr>\n",
       "      <th>0</th>\n",
       "      <td>tcp</td>\n",
       "      <td>klogin</td>\n",
       "      <td>S0</td>\n",
       "      <td>0</td>\n",
       "      <td>0</td>\n",
       "      <td>0</td>\n",
       "      <td>0</td>\n",
       "      <td>0</td>\n",
       "      <td>0</td>\n",
       "      <td>0</td>\n",
       "      <td>...</td>\n",
       "      <td>8</td>\n",
       "      <td>0.03</td>\n",
       "      <td>0.05</td>\n",
       "      <td>0.00</td>\n",
       "      <td>0.00</td>\n",
       "      <td>1.00</td>\n",
       "      <td>1.00</td>\n",
       "      <td>0.00</td>\n",
       "      <td>0.00</td>\n",
       "      <td>0</td>\n",
       "    </tr>\n",
       "    <tr>\n",
       "      <th>0</th>\n",
       "      <td>tcp</td>\n",
       "      <td>ftp_data</td>\n",
       "      <td>SF</td>\n",
       "      <td>151</td>\n",
       "      <td>0</td>\n",
       "      <td>0</td>\n",
       "      <td>0</td>\n",
       "      <td>0</td>\n",
       "      <td>0</td>\n",
       "      <td>0</td>\n",
       "      <td>...</td>\n",
       "      <td>77</td>\n",
       "      <td>0.30</td>\n",
       "      <td>0.03</td>\n",
       "      <td>0.30</td>\n",
       "      <td>0.00</td>\n",
       "      <td>0.00</td>\n",
       "      <td>0.00</td>\n",
       "      <td>0.00</td>\n",
       "      <td>0.00</td>\n",
       "      <td>1</td>\n",
       "    </tr>\n",
       "  </tbody>\n",
       "</table>\n",
       "<p>125973 rows × 41 columns</p>\n",
       "</div>"
      ],
      "text/plain": [
       "   duration protocol_type service  flag  src_bytes  dst_bytes  land  \\\n",
       "0       tcp      ftp_data      SF   491          0          0     0   \n",
       "0       udp         other      SF   146          0          0     0   \n",
       "0       tcp       private      S0     0          0          0     0   \n",
       "0       tcp          http      SF   232       8153          0     0   \n",
       "0       tcp          http      SF   199        420          0     0   \n",
       "..      ...           ...     ...   ...        ...        ...   ...   \n",
       "0       tcp       private      S0     0          0          0     0   \n",
       "8       udp       private      SF   105        145          0     0   \n",
       "0       tcp          smtp      SF  2231        384          0     0   \n",
       "0       tcp        klogin      S0     0          0          0     0   \n",
       "0       tcp      ftp_data      SF   151          0          0     0   \n",
       "\n",
       "    wrong_fragment  urgent  hot  ...  dst_host_count  dst_host_srv_count  \\\n",
       "0                0       0    0  ...              25                0.17   \n",
       "0                0       0    0  ...               1                0.00   \n",
       "0                0       0    0  ...              26                0.10   \n",
       "0                0       0    0  ...             255                1.00   \n",
       "0                0       0    0  ...             255                1.00   \n",
       "..             ...     ...  ...  ...             ...                 ...   \n",
       "0                0       0    0  ...              25                0.10   \n",
       "8                0       0    0  ...             244                0.96   \n",
       "0                0       0    0  ...              30                0.12   \n",
       "0                0       0    0  ...               8                0.03   \n",
       "0                0       0    0  ...              77                0.30   \n",
       "\n",
       "    dst_host_same_srv_rate  dst_host_diff_srv_rate  \\\n",
       "0                     0.03                    0.17   \n",
       "0                     0.60                    0.88   \n",
       "0                     0.05                    0.00   \n",
       "0                     0.00                    0.03   \n",
       "0                     0.00                    0.00   \n",
       "..                     ...                     ...   \n",
       "0                     0.06                    0.00   \n",
       "8                     0.01                    0.01   \n",
       "0                     0.06                    0.00   \n",
       "0                     0.05                    0.00   \n",
       "0                     0.03                    0.30   \n",
       "\n",
       "    dst_host_same_src_port_rate  dst_host_srv_diff_host_rate  \\\n",
       "0                          0.00                         0.00   \n",
       "0                          0.00                         0.00   \n",
       "0                          0.00                         1.00   \n",
       "0                          0.04                         0.03   \n",
       "0                          0.00                         0.00   \n",
       "..                          ...                          ...   \n",
       "0                          0.00                         1.00   \n",
       "8                          0.00                         0.00   \n",
       "0                          0.00                         0.72   \n",
       "0                          0.00                         1.00   \n",
       "0                          0.00                         0.00   \n",
       "\n",
       "    dst_host_serror_rate  dst_host_srv_serror_rate  dst_host_rerror_rate  \\\n",
       "0                   0.00                      0.05                  0.00   \n",
       "0                   0.00                      0.00                  0.00   \n",
       "0                   1.00                      0.00                  0.00   \n",
       "0                   0.01                      0.00                  0.01   \n",
       "0                   0.00                      0.00                  0.00   \n",
       "..                   ...                       ...                   ...   \n",
       "0                   1.00                      0.00                  0.00   \n",
       "8                   0.00                      0.00                  0.00   \n",
       "0                   0.00                      0.01                  0.00   \n",
       "0                   1.00                      0.00                  0.00   \n",
       "0                   0.00                      0.00                  0.00   \n",
       "\n",
       "    label  \n",
       "0       1  \n",
       "0       1  \n",
       "0       0  \n",
       "0       1  \n",
       "0       1  \n",
       "..    ...  \n",
       "0       0  \n",
       "8       1  \n",
       "0       1  \n",
       "0       0  \n",
       "0       1  \n",
       "\n",
       "[125973 rows x 41 columns]"
      ]
     },
     "execution_count": 6,
     "metadata": {},
     "output_type": "execute_result"
    }
   ],
   "source": [
    "df"
   ]
  },
  {
   "cell_type": "code",
   "execution_count": 7,
   "id": "67611c0a",
   "metadata": {},
   "outputs": [
    {
     "name": "stdout",
     "output_type": "stream",
     "text": [
      "duration                        object\n",
      "protocol_type                   object\n",
      "service                         object\n",
      "flag                             int64\n",
      "src_bytes                        int64\n",
      "dst_bytes                        int64\n",
      "land                             int64\n",
      "wrong_fragment                   int64\n",
      "urgent                           int64\n",
      "hot                              int64\n",
      "num_failed_logins                int64\n",
      "logged_in                        int64\n",
      "num_compromised                  int64\n",
      "root_shell                       int64\n",
      "su_attempted                     int64\n",
      "num_root                         int64\n",
      "num_file_creations               int64\n",
      "num_shells                       int64\n",
      "num_access_files                 int64\n",
      "num_outbound_cmds                int64\n",
      "is_host_login                    int64\n",
      "is_guest_login                   int64\n",
      "count                            int64\n",
      "srv_count                      float64\n",
      "serror_rate                    float64\n",
      "srv_serror_rate                float64\n",
      "rerror_rate                    float64\n",
      "srv_rerror_rate                float64\n",
      "same_srv_rate                  float64\n",
      "diff_srv_rate                  float64\n",
      "srv_diff_host_rate               int64\n",
      "dst_host_count                   int64\n",
      "dst_host_srv_count             float64\n",
      "dst_host_same_srv_rate         float64\n",
      "dst_host_diff_srv_rate         float64\n",
      "dst_host_same_src_port_rate    float64\n",
      "dst_host_srv_diff_host_rate    float64\n",
      "dst_host_serror_rate           float64\n",
      "dst_host_srv_serror_rate       float64\n",
      "dst_host_rerror_rate           float64\n",
      "label                            int64\n",
      "dtype: object\n"
     ]
    }
   ],
   "source": [
    "print(df.dtypes)"
   ]
  },
  {
   "cell_type": "code",
   "execution_count": 8,
   "id": "07dce516",
   "metadata": {},
   "outputs": [],
   "source": [
    "# Separate features and labels\n",
    "X = df.drop('label', axis=1)\n",
    "y = df['label']"
   ]
  },
  {
   "cell_type": "code",
   "execution_count": 9,
   "id": "419420f2",
   "metadata": {},
   "outputs": [],
   "source": [
    "# Split the data into training and testing sets\n",
    "X_train, X_test, y_train, y_test = train_test_split(X, y, test_size=0.2, random_state=42)"
   ]
  },
  {
   "cell_type": "code",
   "execution_count": 10,
   "id": "b77f9aa9",
   "metadata": {},
   "outputs": [
    {
     "name": "stdout",
     "output_type": "stream",
     "text": [
      "Unique Values: [0, 1]\n"
     ]
    }
   ],
   "source": [
    "unique_values_set = set(y_train)\n",
    "print(\"Unique Values:\", list(unique_values_set))"
   ]
  },
  {
   "cell_type": "code",
   "execution_count": 11,
   "id": "0a739307",
   "metadata": {},
   "outputs": [],
   "source": [
    "# Define categorical features for one-hot encoding\n",
    "categorical_features = ['duration' ,'protocol_type', 'service'] # , 'dst_host_srv_rerror_rate'"
   ]
  },
  {
   "cell_type": "code",
   "execution_count": 12,
   "id": "55118d30",
   "metadata": {},
   "outputs": [],
   "source": [
    "# # Create column transformer for preprocessing\n",
    "# preprocessor = ColumnTransformer(\n",
    "#     transformers=[\n",
    "#         ('num', StandardScaler(), X_train.columns.difference(categorical_features)),\n",
    "#         ('cat', OneHotEncoder(), categorical_features),\n",
    "#     ]\n",
    "# )"
   ]
  },
  {
   "cell_type": "code",
   "execution_count": 13,
   "id": "7b134116",
   "metadata": {},
   "outputs": [],
   "source": [
    "preprocessor = ColumnTransformer(\n",
    "    transformers=[\n",
    "        ('num', StandardScaler(), X_train.columns.difference(categorical_features)),\n",
    "        ('cat', OneHotEncoder(handle_unknown='ignore'), categorical_features)\n",
    "    ]\n",
    ")"
   ]
  },
  {
   "cell_type": "code",
   "execution_count": 14,
   "id": "292127f7",
   "metadata": {},
   "outputs": [],
   "source": [
    "# Create the pipeline with the preprocessor and Isolation Forest\n",
    "pipeline = Pipeline([\n",
    "    ('preprocessor', preprocessor),\n",
    "    ('clf', IsolationForest(contamination=0.05, random_state=42))\n",
    "])"
   ]
  },
  {
   "cell_type": "code",
   "execution_count": null,
   "id": "00630490",
   "metadata": {},
   "outputs": [],
   "source": []
  },
  {
   "cell_type": "code",
   "execution_count": 15,
   "id": "d1cebde4",
   "metadata": {},
   "outputs": [
    {
     "data": {
      "text/html": [
       "<style>#sk-container-id-1 {color: black;}#sk-container-id-1 pre{padding: 0;}#sk-container-id-1 div.sk-toggleable {background-color: white;}#sk-container-id-1 label.sk-toggleable__label {cursor: pointer;display: block;width: 100%;margin-bottom: 0;padding: 0.3em;box-sizing: border-box;text-align: center;}#sk-container-id-1 label.sk-toggleable__label-arrow:before {content: \"▸\";float: left;margin-right: 0.25em;color: #696969;}#sk-container-id-1 label.sk-toggleable__label-arrow:hover:before {color: black;}#sk-container-id-1 div.sk-estimator:hover label.sk-toggleable__label-arrow:before {color: black;}#sk-container-id-1 div.sk-toggleable__content {max-height: 0;max-width: 0;overflow: hidden;text-align: left;background-color: #f0f8ff;}#sk-container-id-1 div.sk-toggleable__content pre {margin: 0.2em;color: black;border-radius: 0.25em;background-color: #f0f8ff;}#sk-container-id-1 input.sk-toggleable__control:checked~div.sk-toggleable__content {max-height: 200px;max-width: 100%;overflow: auto;}#sk-container-id-1 input.sk-toggleable__control:checked~label.sk-toggleable__label-arrow:before {content: \"▾\";}#sk-container-id-1 div.sk-estimator input.sk-toggleable__control:checked~label.sk-toggleable__label {background-color: #d4ebff;}#sk-container-id-1 div.sk-label input.sk-toggleable__control:checked~label.sk-toggleable__label {background-color: #d4ebff;}#sk-container-id-1 input.sk-hidden--visually {border: 0;clip: rect(1px 1px 1px 1px);clip: rect(1px, 1px, 1px, 1px);height: 1px;margin: -1px;overflow: hidden;padding: 0;position: absolute;width: 1px;}#sk-container-id-1 div.sk-estimator {font-family: monospace;background-color: #f0f8ff;border: 1px dotted black;border-radius: 0.25em;box-sizing: border-box;margin-bottom: 0.5em;}#sk-container-id-1 div.sk-estimator:hover {background-color: #d4ebff;}#sk-container-id-1 div.sk-parallel-item::after {content: \"\";width: 100%;border-bottom: 1px solid gray;flex-grow: 1;}#sk-container-id-1 div.sk-label:hover label.sk-toggleable__label {background-color: #d4ebff;}#sk-container-id-1 div.sk-serial::before {content: \"\";position: absolute;border-left: 1px solid gray;box-sizing: border-box;top: 0;bottom: 0;left: 50%;z-index: 0;}#sk-container-id-1 div.sk-serial {display: flex;flex-direction: column;align-items: center;background-color: white;padding-right: 0.2em;padding-left: 0.2em;position: relative;}#sk-container-id-1 div.sk-item {position: relative;z-index: 1;}#sk-container-id-1 div.sk-parallel {display: flex;align-items: stretch;justify-content: center;background-color: white;position: relative;}#sk-container-id-1 div.sk-item::before, #sk-container-id-1 div.sk-parallel-item::before {content: \"\";position: absolute;border-left: 1px solid gray;box-sizing: border-box;top: 0;bottom: 0;left: 50%;z-index: -1;}#sk-container-id-1 div.sk-parallel-item {display: flex;flex-direction: column;z-index: 1;position: relative;background-color: white;}#sk-container-id-1 div.sk-parallel-item:first-child::after {align-self: flex-end;width: 50%;}#sk-container-id-1 div.sk-parallel-item:last-child::after {align-self: flex-start;width: 50%;}#sk-container-id-1 div.sk-parallel-item:only-child::after {width: 0;}#sk-container-id-1 div.sk-dashed-wrapped {border: 1px dashed gray;margin: 0 0.4em 0.5em 0.4em;box-sizing: border-box;padding-bottom: 0.4em;background-color: white;}#sk-container-id-1 div.sk-label label {font-family: monospace;font-weight: bold;display: inline-block;line-height: 1.2em;}#sk-container-id-1 div.sk-label-container {text-align: center;}#sk-container-id-1 div.sk-container {/* jupyter's `normalize.less` sets `[hidden] { display: none; }` but bootstrap.min.css set `[hidden] { display: none !important; }` so we also need the `!important` here to be able to override the default hidden behavior on the sphinx rendered scikit-learn.org. See: https://github.com/scikit-learn/scikit-learn/issues/21755 */display: inline-block !important;position: relative;}#sk-container-id-1 div.sk-text-repr-fallback {display: none;}</style><div id=\"sk-container-id-1\" class=\"sk-top-container\"><div class=\"sk-text-repr-fallback\"><pre>Pipeline(steps=[(&#x27;preprocessor&#x27;,\n",
       "                 ColumnTransformer(transformers=[(&#x27;num&#x27;, StandardScaler(),\n",
       "                                                  Index([&#x27;count&#x27;, &#x27;diff_srv_rate&#x27;, &#x27;dst_bytes&#x27;, &#x27;dst_host_count&#x27;,\n",
       "       &#x27;dst_host_diff_srv_rate&#x27;, &#x27;dst_host_rerror_rate&#x27;,\n",
       "       &#x27;dst_host_same_src_port_rate&#x27;, &#x27;dst_host_same_srv_rate&#x27;,\n",
       "       &#x27;dst_host_serror_rate&#x27;, &#x27;dst_host_srv_count&#x27;,\n",
       "       &#x27;dst_host_srv_diff_host_rate&#x27;, &#x27;dst_host_srv_serror_rate...\n",
       "       &#x27;num_file_creations&#x27;, &#x27;num_outbound_cmds&#x27;, &#x27;num_root&#x27;, &#x27;num_shells&#x27;,\n",
       "       &#x27;rerror_rate&#x27;, &#x27;root_shell&#x27;, &#x27;same_srv_rate&#x27;, &#x27;serror_rate&#x27;,\n",
       "       &#x27;src_bytes&#x27;, &#x27;srv_count&#x27;, &#x27;srv_diff_host_rate&#x27;, &#x27;srv_rerror_rate&#x27;,\n",
       "       &#x27;srv_serror_rate&#x27;, &#x27;su_attempted&#x27;, &#x27;urgent&#x27;, &#x27;wrong_fragment&#x27;],\n",
       "      dtype=&#x27;object&#x27;)),\n",
       "                                                 (&#x27;cat&#x27;,\n",
       "                                                  OneHotEncoder(handle_unknown=&#x27;ignore&#x27;),\n",
       "                                                  [&#x27;duration&#x27;, &#x27;protocol_type&#x27;,\n",
       "                                                   &#x27;service&#x27;])])),\n",
       "                (&#x27;clf&#x27;, IsolationForest(contamination=0.05, random_state=42))])</pre><b>In a Jupyter environment, please rerun this cell to show the HTML representation or trust the notebook. <br />On GitHub, the HTML representation is unable to render, please try loading this page with nbviewer.org.</b></div><div class=\"sk-container\" hidden><div class=\"sk-item sk-dashed-wrapped\"><div class=\"sk-label-container\"><div class=\"sk-label sk-toggleable\"><input class=\"sk-toggleable__control sk-hidden--visually\" id=\"sk-estimator-id-1\" type=\"checkbox\" ><label for=\"sk-estimator-id-1\" class=\"sk-toggleable__label sk-toggleable__label-arrow\">Pipeline</label><div class=\"sk-toggleable__content\"><pre>Pipeline(steps=[(&#x27;preprocessor&#x27;,\n",
       "                 ColumnTransformer(transformers=[(&#x27;num&#x27;, StandardScaler(),\n",
       "                                                  Index([&#x27;count&#x27;, &#x27;diff_srv_rate&#x27;, &#x27;dst_bytes&#x27;, &#x27;dst_host_count&#x27;,\n",
       "       &#x27;dst_host_diff_srv_rate&#x27;, &#x27;dst_host_rerror_rate&#x27;,\n",
       "       &#x27;dst_host_same_src_port_rate&#x27;, &#x27;dst_host_same_srv_rate&#x27;,\n",
       "       &#x27;dst_host_serror_rate&#x27;, &#x27;dst_host_srv_count&#x27;,\n",
       "       &#x27;dst_host_srv_diff_host_rate&#x27;, &#x27;dst_host_srv_serror_rate...\n",
       "       &#x27;num_file_creations&#x27;, &#x27;num_outbound_cmds&#x27;, &#x27;num_root&#x27;, &#x27;num_shells&#x27;,\n",
       "       &#x27;rerror_rate&#x27;, &#x27;root_shell&#x27;, &#x27;same_srv_rate&#x27;, &#x27;serror_rate&#x27;,\n",
       "       &#x27;src_bytes&#x27;, &#x27;srv_count&#x27;, &#x27;srv_diff_host_rate&#x27;, &#x27;srv_rerror_rate&#x27;,\n",
       "       &#x27;srv_serror_rate&#x27;, &#x27;su_attempted&#x27;, &#x27;urgent&#x27;, &#x27;wrong_fragment&#x27;],\n",
       "      dtype=&#x27;object&#x27;)),\n",
       "                                                 (&#x27;cat&#x27;,\n",
       "                                                  OneHotEncoder(handle_unknown=&#x27;ignore&#x27;),\n",
       "                                                  [&#x27;duration&#x27;, &#x27;protocol_type&#x27;,\n",
       "                                                   &#x27;service&#x27;])])),\n",
       "                (&#x27;clf&#x27;, IsolationForest(contamination=0.05, random_state=42))])</pre></div></div></div><div class=\"sk-serial\"><div class=\"sk-item sk-dashed-wrapped\"><div class=\"sk-label-container\"><div class=\"sk-label sk-toggleable\"><input class=\"sk-toggleable__control sk-hidden--visually\" id=\"sk-estimator-id-2\" type=\"checkbox\" ><label for=\"sk-estimator-id-2\" class=\"sk-toggleable__label sk-toggleable__label-arrow\">preprocessor: ColumnTransformer</label><div class=\"sk-toggleable__content\"><pre>ColumnTransformer(transformers=[(&#x27;num&#x27;, StandardScaler(),\n",
       "                                 Index([&#x27;count&#x27;, &#x27;diff_srv_rate&#x27;, &#x27;dst_bytes&#x27;, &#x27;dst_host_count&#x27;,\n",
       "       &#x27;dst_host_diff_srv_rate&#x27;, &#x27;dst_host_rerror_rate&#x27;,\n",
       "       &#x27;dst_host_same_src_port_rate&#x27;, &#x27;dst_host_same_srv_rate&#x27;,\n",
       "       &#x27;dst_host_serror_rate&#x27;, &#x27;dst_host_srv_count&#x27;,\n",
       "       &#x27;dst_host_srv_diff_host_rate&#x27;, &#x27;dst_host_srv_serror_rate&#x27;, &#x27;flag&#x27;,\n",
       "       &#x27;hot&#x27;, &#x27;is_guest_login&#x27;,...\n",
       "       &#x27;num_access_files&#x27;, &#x27;num_compromised&#x27;, &#x27;num_failed_logins&#x27;,\n",
       "       &#x27;num_file_creations&#x27;, &#x27;num_outbound_cmds&#x27;, &#x27;num_root&#x27;, &#x27;num_shells&#x27;,\n",
       "       &#x27;rerror_rate&#x27;, &#x27;root_shell&#x27;, &#x27;same_srv_rate&#x27;, &#x27;serror_rate&#x27;,\n",
       "       &#x27;src_bytes&#x27;, &#x27;srv_count&#x27;, &#x27;srv_diff_host_rate&#x27;, &#x27;srv_rerror_rate&#x27;,\n",
       "       &#x27;srv_serror_rate&#x27;, &#x27;su_attempted&#x27;, &#x27;urgent&#x27;, &#x27;wrong_fragment&#x27;],\n",
       "      dtype=&#x27;object&#x27;)),\n",
       "                                (&#x27;cat&#x27;, OneHotEncoder(handle_unknown=&#x27;ignore&#x27;),\n",
       "                                 [&#x27;duration&#x27;, &#x27;protocol_type&#x27;, &#x27;service&#x27;])])</pre></div></div></div><div class=\"sk-parallel\"><div class=\"sk-parallel-item\"><div class=\"sk-item\"><div class=\"sk-label-container\"><div class=\"sk-label sk-toggleable\"><input class=\"sk-toggleable__control sk-hidden--visually\" id=\"sk-estimator-id-3\" type=\"checkbox\" ><label for=\"sk-estimator-id-3\" class=\"sk-toggleable__label sk-toggleable__label-arrow\">num</label><div class=\"sk-toggleable__content\"><pre>Index([&#x27;count&#x27;, &#x27;diff_srv_rate&#x27;, &#x27;dst_bytes&#x27;, &#x27;dst_host_count&#x27;,\n",
       "       &#x27;dst_host_diff_srv_rate&#x27;, &#x27;dst_host_rerror_rate&#x27;,\n",
       "       &#x27;dst_host_same_src_port_rate&#x27;, &#x27;dst_host_same_srv_rate&#x27;,\n",
       "       &#x27;dst_host_serror_rate&#x27;, &#x27;dst_host_srv_count&#x27;,\n",
       "       &#x27;dst_host_srv_diff_host_rate&#x27;, &#x27;dst_host_srv_serror_rate&#x27;, &#x27;flag&#x27;,\n",
       "       &#x27;hot&#x27;, &#x27;is_guest_login&#x27;, &#x27;is_host_login&#x27;, &#x27;land&#x27;, &#x27;logged_in&#x27;,\n",
       "       &#x27;num_access_files&#x27;, &#x27;num_compromised&#x27;, &#x27;num_failed_logins&#x27;,\n",
       "       &#x27;num_file_creations&#x27;, &#x27;num_outbound_cmds&#x27;, &#x27;num_root&#x27;, &#x27;num_shells&#x27;,\n",
       "       &#x27;rerror_rate&#x27;, &#x27;root_shell&#x27;, &#x27;same_srv_rate&#x27;, &#x27;serror_rate&#x27;,\n",
       "       &#x27;src_bytes&#x27;, &#x27;srv_count&#x27;, &#x27;srv_diff_host_rate&#x27;, &#x27;srv_rerror_rate&#x27;,\n",
       "       &#x27;srv_serror_rate&#x27;, &#x27;su_attempted&#x27;, &#x27;urgent&#x27;, &#x27;wrong_fragment&#x27;],\n",
       "      dtype=&#x27;object&#x27;)</pre></div></div></div><div class=\"sk-serial\"><div class=\"sk-item\"><div class=\"sk-estimator sk-toggleable\"><input class=\"sk-toggleable__control sk-hidden--visually\" id=\"sk-estimator-id-4\" type=\"checkbox\" ><label for=\"sk-estimator-id-4\" class=\"sk-toggleable__label sk-toggleable__label-arrow\">StandardScaler</label><div class=\"sk-toggleable__content\"><pre>StandardScaler()</pre></div></div></div></div></div></div><div class=\"sk-parallel-item\"><div class=\"sk-item\"><div class=\"sk-label-container\"><div class=\"sk-label sk-toggleable\"><input class=\"sk-toggleable__control sk-hidden--visually\" id=\"sk-estimator-id-5\" type=\"checkbox\" ><label for=\"sk-estimator-id-5\" class=\"sk-toggleable__label sk-toggleable__label-arrow\">cat</label><div class=\"sk-toggleable__content\"><pre>[&#x27;duration&#x27;, &#x27;protocol_type&#x27;, &#x27;service&#x27;]</pre></div></div></div><div class=\"sk-serial\"><div class=\"sk-item\"><div class=\"sk-estimator sk-toggleable\"><input class=\"sk-toggleable__control sk-hidden--visually\" id=\"sk-estimator-id-6\" type=\"checkbox\" ><label for=\"sk-estimator-id-6\" class=\"sk-toggleable__label sk-toggleable__label-arrow\">OneHotEncoder</label><div class=\"sk-toggleable__content\"><pre>OneHotEncoder(handle_unknown=&#x27;ignore&#x27;)</pre></div></div></div></div></div></div></div></div><div class=\"sk-item\"><div class=\"sk-estimator sk-toggleable\"><input class=\"sk-toggleable__control sk-hidden--visually\" id=\"sk-estimator-id-7\" type=\"checkbox\" ><label for=\"sk-estimator-id-7\" class=\"sk-toggleable__label sk-toggleable__label-arrow\">IsolationForest</label><div class=\"sk-toggleable__content\"><pre>IsolationForest(contamination=0.05, random_state=42)</pre></div></div></div></div></div></div></div>"
      ],
      "text/plain": [
       "Pipeline(steps=[('preprocessor',\n",
       "                 ColumnTransformer(transformers=[('num', StandardScaler(),\n",
       "                                                  Index(['count', 'diff_srv_rate', 'dst_bytes', 'dst_host_count',\n",
       "       'dst_host_diff_srv_rate', 'dst_host_rerror_rate',\n",
       "       'dst_host_same_src_port_rate', 'dst_host_same_srv_rate',\n",
       "       'dst_host_serror_rate', 'dst_host_srv_count',\n",
       "       'dst_host_srv_diff_host_rate', 'dst_host_srv_serror_rate...\n",
       "       'num_file_creations', 'num_outbound_cmds', 'num_root', 'num_shells',\n",
       "       'rerror_rate', 'root_shell', 'same_srv_rate', 'serror_rate',\n",
       "       'src_bytes', 'srv_count', 'srv_diff_host_rate', 'srv_rerror_rate',\n",
       "       'srv_serror_rate', 'su_attempted', 'urgent', 'wrong_fragment'],\n",
       "      dtype='object')),\n",
       "                                                 ('cat',\n",
       "                                                  OneHotEncoder(handle_unknown='ignore'),\n",
       "                                                  ['duration', 'protocol_type',\n",
       "                                                   'service'])])),\n",
       "                ('clf', IsolationForest(contamination=0.05, random_state=42))])"
      ]
     },
     "execution_count": 15,
     "metadata": {},
     "output_type": "execute_result"
    }
   ],
   "source": [
    "# Train the model\n",
    "pipeline.fit(X_train, y_train)"
   ]
  },
  {
   "cell_type": "code",
   "execution_count": 16,
   "id": "abb66b02",
   "metadata": {},
   "outputs": [],
   "source": [
    "# file_path2 = 'KDDTest+.txt'"
   ]
  },
  {
   "cell_type": "code",
   "execution_count": 17,
   "id": "fac52630",
   "metadata": {},
   "outputs": [],
   "source": [
    "# # Load the dataset\n",
    "# df2 = pd.read_csv(file_path2, header=None, names=columns)"
   ]
  },
  {
   "cell_type": "code",
   "execution_count": 18,
   "id": "564d1ae4",
   "metadata": {},
   "outputs": [],
   "source": [
    "# print(df2.dtypes)"
   ]
  },
  {
   "cell_type": "code",
   "execution_count": 19,
   "id": "06c95f43",
   "metadata": {},
   "outputs": [],
   "source": [
    "# # Separate features and labels\n",
    "# X_test = df2.drop('label', axis=1)\n",
    "# y_test = df2['label']"
   ]
  },
  {
   "cell_type": "code",
   "execution_count": null,
   "id": "712e427e",
   "metadata": {},
   "outputs": [],
   "source": []
  },
  {
   "cell_type": "code",
   "execution_count": 20,
   "id": "e7159791",
   "metadata": {},
   "outputs": [],
   "source": [
    "# Predict anomalies on the test set\n",
    "predictions = pipeline.predict(X_test)"
   ]
  },
  {
   "cell_type": "code",
   "execution_count": 21,
   "id": "6dbaf306",
   "metadata": {},
   "outputs": [
    {
     "data": {
      "text/plain": [
       "array([1, 1, 1, ..., 1, 1, 1])"
      ]
     },
     "execution_count": 21,
     "metadata": {},
     "output_type": "execute_result"
    }
   ],
   "source": [
    "predictions"
   ]
  },
  {
   "cell_type": "code",
   "execution_count": null,
   "id": "d11fd884",
   "metadata": {},
   "outputs": [],
   "source": []
  },
  {
   "cell_type": "code",
   "execution_count": 22,
   "id": "6603eff8",
   "metadata": {},
   "outputs": [
    {
     "name": "stdout",
     "output_type": "stream",
     "text": [
      "Unique Values: [1, -1]\n"
     ]
    }
   ],
   "source": [
    "unique_values_set = set(predictions)\n",
    "print(\"Unique Values:\", list(unique_values_set))"
   ]
  },
  {
   "cell_type": "code",
   "execution_count": 23,
   "id": "0aeea35b",
   "metadata": {},
   "outputs": [],
   "source": [
    "predictions[predictions == -1] = 0"
   ]
  },
  {
   "cell_type": "code",
   "execution_count": 24,
   "id": "d84e6881",
   "metadata": {},
   "outputs": [
    {
     "data": {
      "text/plain": [
       "array([1, 1, 1, ..., 1, 1, 1])"
      ]
     },
     "execution_count": 24,
     "metadata": {},
     "output_type": "execute_result"
    }
   ],
   "source": [
    "predictions"
   ]
  },
  {
   "cell_type": "code",
   "execution_count": 25,
   "id": "ac52f1d4",
   "metadata": {},
   "outputs": [
    {
     "name": "stdout",
     "output_type": "stream",
     "text": [
      "Unique Values: [0, 1]\n"
     ]
    }
   ],
   "source": [
    "unique_values_set = set(predictions)\n",
    "print(\"Unique Values:\", list(unique_values_set))"
   ]
  },
  {
   "cell_type": "code",
   "execution_count": 26,
   "id": "b06a6b31",
   "metadata": {
    "scrolled": true
   },
   "outputs": [
    {
     "name": "stdout",
     "output_type": "stream",
     "text": [
      "              precision    recall  f1-score   support\n",
      "\n",
      "           0       0.81      0.09      0.15     11773\n",
      "           1       0.55      0.98      0.71     13422\n",
      "\n",
      "    accuracy                           0.56     25195\n",
      "   macro avg       0.68      0.53      0.43     25195\n",
      "weighted avg       0.67      0.56      0.45     25195\n",
      "\n"
     ]
    }
   ],
   "source": [
    "# Evaluate the performance\n",
    "print(classification_report(y_test, predictions))"
   ]
  },
  {
   "cell_type": "code",
   "execution_count": 27,
   "id": "fc803641",
   "metadata": {},
   "outputs": [
    {
     "data": {
      "text/plain": [
       "array([1, 1, 1, ..., 1, 1, 1])"
      ]
     },
     "execution_count": 27,
     "metadata": {},
     "output_type": "execute_result"
    }
   ],
   "source": [
    "predictions"
   ]
  },
  {
   "cell_type": "code",
   "execution_count": 28,
   "id": "dcfe5ab6",
   "metadata": {},
   "outputs": [],
   "source": [
    "y_pred = predictions"
   ]
  },
  {
   "cell_type": "code",
   "execution_count": 29,
   "id": "fbaaa18c",
   "metadata": {},
   "outputs": [
    {
     "name": "stdout",
     "output_type": "stream",
     "text": [
      "Precision: 0.5503924515698063\n",
      "Recall: 0.9821934137982417\n",
      "F1-Score: 0.705463691336223\n"
     ]
    }
   ],
   "source": [
    "from sklearn.metrics import precision_score, recall_score, f1_score\n",
    "\n",
    "precision = precision_score(y_test, y_pred)\n",
    "recall = recall_score(y_test, y_pred)\n",
    "f1 = f1_score(y_test, y_pred)\n",
    "\n",
    "print(\"Precision:\", precision)\n",
    "print(\"Recall:\", recall)\n",
    "print(\"F1-Score:\", f1)\n"
   ]
  },
  {
   "cell_type": "code",
   "execution_count": 30,
   "id": "df8f4f0c",
   "metadata": {},
   "outputs": [
    {
     "name": "stdout",
     "output_type": "stream",
     "text": [
      "Accuracy: 0.5630879142687041\n"
     ]
    }
   ],
   "source": [
    "from sklearn.metrics import accuracy_score\n",
    "\n",
    "accuracy = accuracy_score(y_test, y_pred)\n",
    "print(\"Accuracy:\", accuracy)\n"
   ]
  },
  {
   "cell_type": "code",
   "execution_count": 31,
   "id": "f26e409c",
   "metadata": {},
   "outputs": [
    {
     "data": {
      "image/png": "[encoded data removed]",
      "text/plain": [
       "<Figure size 432x288 with 2 Axes>"
      ]
     },
     "metadata": {
      "needs_background": "light"
     },
     "output_type": "display_data"
    }
   ],
   "source": [
    "# Plot the confusion matrix\n",
    "skplt.metrics.plot_confusion_matrix(y_test, predictions, normalize=True)\n",
    "plt.show()"
   ]
  },
  {
   "cell_type": "code",
   "execution_count": 32,
   "id": "bb10c0e9",
   "metadata": {},
   "outputs": [
    {
     "data": {
      "image/png": "[encoded data removed]",
      "text/plain": [
       "<Figure size 432x288 with 1 Axes>"
      ]
     },
     "metadata": {
      "needs_background": "light"
     },
     "output_type": "display_data"
    }
   ],
   "source": [
    "from sklearn.metrics import roc_curve, auc\n",
    "import matplotlib.pyplot as plt\n",
    "\n",
    "fpr, tpr, thresholds = roc_curve(y_test, y_pred)\n",
    "roc_auc = auc(fpr, tpr)\n",
    "\n",
    "plt.figure()\n",
    "plt.plot(fpr, tpr, color='darkorange', lw=2, label='ROC curve (area = {:.2f})'.format(roc_auc))\n",
    "plt.plot([0, 1], [0, 1], color='navy', lw=2, linestyle='--')\n",
    "plt.xlabel('False Positive Rate')\n",
    "plt.ylabel('True Positive Rate')\n",
    "plt.title('Receiver Operating Characteristic (ROC) Curve')\n",
    "plt.legend(loc='lower right')\n",
    "plt.show()\n"
   ]
  },
  {
   "cell_type": "code",
   "execution_count": 33,
   "id": "e7717d2f",
   "metadata": {},
   "outputs": [
    {
     "data": {
      "image/png": "[encoded data removed]",
      "text/plain": [
       "<Figure size 432x288 with 1 Axes>"
      ]
     },
     "metadata": {
      "needs_background": "light"
     },
     "output_type": "display_data"
    }
   ],
   "source": [
    "from sklearn.metrics import precision_recall_curve, average_precision_score\n",
    "\n",
    "precision, recall, _ = precision_recall_curve(y_test, y_pred)\n",
    "average_precision = average_precision_score(y_test, y_pred)\n",
    "\n",
    "plt.figure()\n",
    "plt.step(recall, precision, color='b', alpha=0.2, where='post')\n",
    "plt.fill_between(recall, precision, step='post', alpha=0.2, color='b')\n",
    "plt.xlabel('Recall')\n",
    "plt.ylabel('Precision')\n",
    "plt.ylim([0.0, 1.05])\n",
    "plt.xlim([0.0, 1.0])\n",
    "plt.title('Precision-Recall Curve: AP={0:0.2f}'.format(average_precision))\n",
    "plt.show()\n"
   ]
  },
  {
   "cell_type": "code",
   "execution_count": 34,
   "id": "f8b4fc9e",
   "metadata": {},
   "outputs": [
    {
     "data": {
      "image/png": "[encoded data removed]",
      "text/plain": [
       "<Figure size 432x288 with 2 Axes>"
      ]
     },
     "metadata": {
      "needs_background": "light"
     },
     "output_type": "display_data"
    }
   ],
   "source": [
    "from sklearn.metrics import confusion_matrix\n",
    "import seaborn as sns\n",
    "import matplotlib.pyplot as plt\n",
    "\n",
    "cm = confusion_matrix(y_test, y_pred)\n",
    "sns.heatmap(cm, annot=True, fmt=\"d\", cmap=\"Blues\", xticklabels=['Predicted 0', 'Predicted 1'], yticklabels=['Actual 0', 'Actual 1'])\n",
    "plt.title(\"Confusion Matrix\")\n",
    "plt.show()\n"
   ]
  },
  {
   "cell_type": "code",
   "execution_count": 35,
   "id": "37575c76",
   "metadata": {},
   "outputs": [
    {
     "data": {
      "image/png": "[encoded data removed]",
      "text/plain": [
       "<Figure size 432x288 with 1 Axes>"
      ]
     },
     "metadata": {
      "needs_background": "light"
     },
     "output_type": "display_data"
    }
   ],
   "source": [
    "from sklearn.calibration import calibration_curve\n",
    "\n",
    "prob_true, prob_pred = calibration_curve(y_test, y_pred, n_bins=10)\n",
    "\n",
    "plt.plot(prob_pred, prob_true, marker='o', label='Calibration Curve')\n",
    "plt.plot([0, 1], [0, 1], linestyle='--', color='gray', label='Perfectly Calibrated')\n",
    "plt.xlabel('Mean Predicted Probability')\n",
    "plt.ylabel('Fraction of Positives')\n",
    "plt.title('Calibration Curve')\n",
    "plt.legend()\n",
    "plt.show()\n"
   ]
  }
 ],
 "metadata": {
  "kernelspec": {
   "display_name": "Python 3 (ipykernel)",
   "language": "python",
   "name": "python3"
  },
  "language_info": {
   "codemirror_mode": {
    "name": "ipython",
    "version": 3
   },
   "file_extension": ".py",
   "mimetype": "text/x-python",
   "name": "python",
   "nbconvert_exporter": "python",
   "pygments_lexer": "ipython3",
   "version": "3.9.12"
  }
 },
 "nbformat": 4,
 "nbformat_minor": 5
}
